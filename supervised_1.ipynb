{
 "cells": [
  {
   "cell_type": "markdown",
   "metadata": {},
   "source": [
    "# LogisticRegresion "
   ]
  },
  {
   "cell_type": "code",
   "execution_count": 1,
   "metadata": {},
   "outputs": [],
   "source": [
    "from sklearn.model_selection import train_test_split\n",
    "from sklearn.linear_model import LogisticRegression\n",
    "from sklearn.metrics import accuracy_score, classification_report\n",
    "from sklearn.preprocessing import StandardScaler\n"
   ]
  },
  {
   "cell_type": "code",
   "execution_count": 2,
   "metadata": {},
   "outputs": [
    {
     "name": "stdout",
     "output_type": "stream",
     "text": [
      "importing Jupyter notebook from preprocess.ipynb\n"
     ]
    },
    {
     "name": "stderr",
     "output_type": "stream",
     "text": [
      "c:\\Users\\47476\\anaconda3\\Lib\\site-packages\\pandas\\core\\arrays\\masked.py:60: UserWarning: Pandas requires version '1.3.6' or newer of 'bottleneck' (version '1.3.5' currently installed).\n",
      "  from pandas.core import (\n"
     ]
    },
    {
     "name": "stdout",
     "output_type": "stream",
     "text": [
      "Melding ID                       0\n",
      "Meldingstidspunkt                0\n",
      "Meldingsdato                     0\n",
      "Meldingsklokkeslett              0\n",
      "Starttidspunkt                   0\n",
      "Startdato                        0\n",
      "Startklokkeslett                 0\n",
      "Startposisjon bredde             0\n",
      "Startposisjon lengde             0\n",
      "Hovedområde start (kode)      2001\n",
      "Hovedområde start             4124\n",
      "Lokasjon start (kode)         2001\n",
      "Havdybde start                   0\n",
      "Stopptidspunkt                   0\n",
      "Stoppdato                        0\n",
      "Stoppklokkeslett                 0\n",
      "Varighet                         0\n",
      "Fangstår                         0\n",
      "Stopposisjon bredde              0\n",
      "Stopposisjon lengde              0\n",
      "Hovedområde stopp (kode)      1962\n",
      "Hovedområde stopp             4124\n",
      "Lokasjon stopp (kode)         1962\n",
      "Havdybde stopp                   0\n",
      "Trekkavstand                    24\n",
      "Redskap FAO (kode)               0\n",
      "Redskap FAO                    188\n",
      "Redskap FDIR (kode)            188\n",
      "Redskap FDIR                   188\n",
      "Hovedart FAO (kode)           4978\n",
      "Hovedart FAO                  4978\n",
      "Hovedart - FDIR (kode)        4978\n",
      "Art FAO (kode)                4978\n",
      "Art FAO                       4982\n",
      "Art - FDIR (kode)             4982\n",
      "Art - FDIR                    4982\n",
      "Art - gruppe (kode)           4982\n",
      "Art - gruppe                  4982\n",
      "Rundvekt                      4978\n",
      "Lengdegruppe (kode)            684\n",
      "Lengdegruppe                   684\n",
      "Bruttotonnasje 1969          71429\n",
      "Bruttotonnasje annen        230660\n",
      "Bredde                         684\n",
      "Fartøylengde                     0\n",
      "dtype: int64\n"
     ]
    },
    {
     "data": {
      "image/png": "[encoded data removed]",
      "text/plain": [
       "<Figure size 640x480 with 1 Axes>"
      ]
     },
     "metadata": {},
     "output_type": "display_data"
    },
    {
     "name": "stdout",
     "output_type": "stream",
     "text": [
      "Art - FDIR\n",
      "Torsk                  56507\n",
      "Sei                    42495\n",
      "Hyse                   39080\n",
      "Lange                  17328\n",
      "Uer (vanlig)           14151\n",
      "                       ...  \n",
      "Sagtang                    1\n",
      "Annen makrell              1\n",
      "Blåhval                    1\n",
      "Annen laksefisk            1\n",
      "Bukstripet pelamide        1\n",
      "Name: count, Length: 121, dtype: int64\n"
     ]
    },
    {
     "data": {
      "text/html": [
       "<div>\n",
       "<style scoped>\n",
       "    .dataframe tbody tr th:only-of-type {\n",
       "        vertical-align: middle;\n",
       "    }\n",
       "\n",
       "    .dataframe tbody tr th {\n",
       "        vertical-align: top;\n",
       "    }\n",
       "\n",
       "    .dataframe thead th {\n",
       "        text-align: right;\n",
       "    }\n",
       "</style>\n",
       "<table border=\"1\" class=\"dataframe\">\n",
       "  <thead>\n",
       "    <tr style=\"text-align: right;\">\n",
       "      <th></th>\n",
       "      <th>Startposisjon bredde</th>\n",
       "      <th>Startposisjon lengde</th>\n",
       "      <th>Havdybde start</th>\n",
       "      <th>Varighet</th>\n",
       "      <th>Stopposisjon bredde</th>\n",
       "      <th>Stopposisjon lengde</th>\n",
       "      <th>Havdybde stopp</th>\n",
       "      <th>Trekkavstand</th>\n",
       "      <th>Redskap FDIR (kode)</th>\n",
       "      <th>Art - FDIR</th>\n",
       "      <th>Rundvekt</th>\n",
       "      <th>Bredde</th>\n",
       "      <th>Fartøylengde</th>\n",
       "      <th>Month</th>\n",
       "    </tr>\n",
       "  </thead>\n",
       "  <tbody>\n",
       "    <tr>\n",
       "      <th>2</th>\n",
       "      <td>74.885</td>\n",
       "      <td>16.048</td>\n",
       "      <td>-335.0</td>\n",
       "      <td>295.0</td>\n",
       "      <td>74.914</td>\n",
       "      <td>15.969</td>\n",
       "      <td>-334.0</td>\n",
       "      <td>3970.0</td>\n",
       "      <td>51.0</td>\n",
       "      <td>0</td>\n",
       "      <td>8510.0</td>\n",
       "      <td>12.6</td>\n",
       "      <td>56.8</td>\n",
       "      <td>12</td>\n",
       "    </tr>\n",
       "    <tr>\n",
       "      <th>4</th>\n",
       "      <td>74.885</td>\n",
       "      <td>16.048</td>\n",
       "      <td>-335.0</td>\n",
       "      <td>295.0</td>\n",
       "      <td>74.914</td>\n",
       "      <td>15.969</td>\n",
       "      <td>-334.0</td>\n",
       "      <td>3970.0</td>\n",
       "      <td>51.0</td>\n",
       "      <td>1</td>\n",
       "      <td>134.0</td>\n",
       "      <td>12.6</td>\n",
       "      <td>56.8</td>\n",
       "      <td>12</td>\n",
       "    </tr>\n",
       "    <tr>\n",
       "      <th>6</th>\n",
       "      <td>74.910</td>\n",
       "      <td>15.868</td>\n",
       "      <td>-403.0</td>\n",
       "      <td>267.0</td>\n",
       "      <td>74.901</td>\n",
       "      <td>16.248</td>\n",
       "      <td>-277.0</td>\n",
       "      <td>11096.0</td>\n",
       "      <td>51.0</td>\n",
       "      <td>0</td>\n",
       "      <td>6651.0</td>\n",
       "      <td>12.6</td>\n",
       "      <td>56.8</td>\n",
       "      <td>12</td>\n",
       "    </tr>\n",
       "    <tr>\n",
       "      <th>9</th>\n",
       "      <td>74.910</td>\n",
       "      <td>15.868</td>\n",
       "      <td>-403.0</td>\n",
       "      <td>267.0</td>\n",
       "      <td>74.901</td>\n",
       "      <td>16.248</td>\n",
       "      <td>-277.0</td>\n",
       "      <td>11096.0</td>\n",
       "      <td>51.0</td>\n",
       "      <td>1</td>\n",
       "      <td>67.0</td>\n",
       "      <td>12.6</td>\n",
       "      <td>56.8</td>\n",
       "      <td>12</td>\n",
       "    </tr>\n",
       "    <tr>\n",
       "      <th>12</th>\n",
       "      <td>74.883</td>\n",
       "      <td>16.056</td>\n",
       "      <td>-346.0</td>\n",
       "      <td>315.0</td>\n",
       "      <td>74.924</td>\n",
       "      <td>15.742</td>\n",
       "      <td>-496.0</td>\n",
       "      <td>10215.0</td>\n",
       "      <td>51.0</td>\n",
       "      <td>0</td>\n",
       "      <td>5097.0</td>\n",
       "      <td>12.6</td>\n",
       "      <td>56.8</td>\n",
       "      <td>12</td>\n",
       "    </tr>\n",
       "  </tbody>\n",
       "</table>\n",
       "</div>"
      ],
      "text/plain": [
       "    Startposisjon bredde  Startposisjon lengde  Havdybde start  Varighet  \\\n",
       "2                 74.885                16.048          -335.0     295.0   \n",
       "4                 74.885                16.048          -335.0     295.0   \n",
       "6                 74.910                15.868          -403.0     267.0   \n",
       "9                 74.910                15.868          -403.0     267.0   \n",
       "12                74.883                16.056          -346.0     315.0   \n",
       "\n",
       "    Stopposisjon bredde  Stopposisjon lengde  Havdybde stopp  Trekkavstand  \\\n",
       "2                74.914               15.969          -334.0        3970.0   \n",
       "4                74.914               15.969          -334.0        3970.0   \n",
       "6                74.901               16.248          -277.0       11096.0   \n",
       "9                74.901               16.248          -277.0       11096.0   \n",
       "12               74.924               15.742          -496.0       10215.0   \n",
       "\n",
       "    Redskap FDIR (kode)  Art - FDIR  Rundvekt  Bredde  Fartøylengde  Month  \n",
       "2                  51.0           0    8510.0    12.6          56.8     12  \n",
       "4                  51.0           1     134.0    12.6          56.8     12  \n",
       "6                  51.0           0    6651.0    12.6          56.8     12  \n",
       "9                  51.0           1      67.0    12.6          56.8     12  \n",
       "12                 51.0           0    5097.0    12.6          56.8     12  "
      ]
     },
     "execution_count": 2,
     "metadata": {},
     "output_type": "execute_result"
    }
   ],
   "source": [
    "import import_ipynb\n",
    "from preprocess import df\n",
    "df.head()"
   ]
  },
  {
   "cell_type": "code",
   "execution_count": 3,
   "metadata": {},
   "outputs": [
    {
     "name": "stdout",
     "output_type": "stream",
     "text": [
      "Accuracy: 0.6108277359729306\n",
      "              precision    recall  f1-score   support\n",
      "\n",
      "           0       0.63      0.76      0.69     11337\n",
      "           1       0.56      0.42      0.48      8464\n",
      "\n",
      "    accuracy                           0.61     19801\n",
      "   macro avg       0.60      0.59      0.58     19801\n",
      "weighted avg       0.60      0.61      0.60     19801\n",
      "\n"
     ]
    }
   ],
   "source": [
    "\n",
    "#Selecting features and target variable\n",
    "features = ['Startposisjon bredde', 'Startposisjon lengde', 'Havdybde start', 'Varighet',\n",
    "            'Stopposisjon bredde', 'Stopposisjon lengde', 'Havdybde stopp', 'Trekkavstand', 'Redskap FDIR (kode)', \n",
    "            'Rundvekt']\n",
    "X = df[features]\n",
    "y = df['Art - FDIR']\n",
    "\n",
    "#scaling\n",
    "scaler = StandardScaler()\n",
    "X_scaled = scaler.fit_transform(X)\n",
    "\n",
    "#Splitting dataset into training and testing set\n",
    "X_train, X_test, y_train, y_test = train_test_split(X_scaled, y, test_size=0.2, random_state=42)\n",
    "\n",
    "#Creating and training the logistic regression model\n",
    "model = LogisticRegression()\n",
    "model.fit(X_train, y_train)\n",
    "\n",
    "\n",
    "#Making predictions\n",
    "y_pred = model.predict(X_test)\n",
    "\n",
    "#Evaluating the model\n",
    "print(\"Accuracy:\", accuracy_score(y_test, y_pred))\n",
    "print(classification_report(y_test, y_pred))\n",
    "\n"
   ]
  },
  {
   "cell_type": "code",
   "execution_count": 11,
   "metadata": {},
   "outputs": [
    {
     "data": {
      "image/png": "[encoded data removed]",
      "text/plain": [
       "<Figure size 640x480 with 1 Axes>"
      ]
     },
     "metadata": {},
     "output_type": "display_data"
    }
   ],
   "source": [
    "import seaborn as sns\n",
    "import matplotlib.pyplot as plt\n",
    "from sklearn import metrics\n",
    "\n",
    "# Assuming y_test and y_pred are defined as in your code\n",
    "cm = metrics.confusion_matrix(y_test, y_pred)\n",
    "\n",
    "# Visualize the confusion matrix\n",
    "sns.heatmap(cm, annot=True, fmt='d', cmap='Blues', cbar=False)\n",
    "plt.xlabel('Predicted')\n",
    "plt.ylabel('Actual')\n",
    "plt.title('Confusion Matrix')\n",
    "plt.show()"
   ]
  },
  {
   "cell_type": "code",
   "execution_count": null,
   "metadata": {},
   "outputs": [],
   "source": []
  }
 ],
 "metadata": {
  "kernelspec": {
   "display_name": "base",
   "language": "python",
   "name": "python3"
  },
  "language_info": {
   "codemirror_mode": {
    "name": "ipython",
    "version": 3
   },
   "file_extension": ".py",
   "mimetype": "text/x-python",
   "name": "python",
   "nbconvert_exporter": "python",
   "pygments_lexer": "ipython3",
   "version": "3.11.4"
  }
 },
 "nbformat": 4,
 "nbformat_minor": 2
}
