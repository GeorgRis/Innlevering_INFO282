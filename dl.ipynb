{
 "cells": [
  {
   "cell_type": "code",
   "execution_count": 16,
   "metadata": {},
   "outputs": [
    {
     "data": {
      "text/html": [
       "<div>\n",
       "<style scoped>\n",
       "    .dataframe tbody tr th:only-of-type {\n",
       "        vertical-align: middle;\n",
       "    }\n",
       "\n",
       "    .dataframe tbody tr th {\n",
       "        vertical-align: top;\n",
       "    }\n",
       "\n",
       "    .dataframe thead th {\n",
       "        text-align: right;\n",
       "    }\n",
       "</style>\n",
       "<table border=\"1\" class=\"dataframe\">\n",
       "  <thead>\n",
       "    <tr style=\"text-align: right;\">\n",
       "      <th></th>\n",
       "      <th>Startposisjon bredde</th>\n",
       "      <th>Startposisjon lengde</th>\n",
       "      <th>Havdybde start</th>\n",
       "      <th>Varighet</th>\n",
       "      <th>Stopposisjon bredde</th>\n",
       "      <th>Stopposisjon lengde</th>\n",
       "      <th>Havdybde stopp</th>\n",
       "      <th>Trekkavstand</th>\n",
       "      <th>Redskap FDIR (kode)</th>\n",
       "      <th>Hovedart FAO</th>\n",
       "      <th>Art - FDIR</th>\n",
       "      <th>Rundvekt</th>\n",
       "      <th>Bredde</th>\n",
       "      <th>Fartøylengde</th>\n",
       "      <th>Month</th>\n",
       "    </tr>\n",
       "  </thead>\n",
       "  <tbody>\n",
       "    <tr>\n",
       "      <th>1</th>\n",
       "      <td>74.885</td>\n",
       "      <td>16.048</td>\n",
       "      <td>-335.0</td>\n",
       "      <td>295.0</td>\n",
       "      <td>74.914</td>\n",
       "      <td>15.969</td>\n",
       "      <td>-334.0</td>\n",
       "      <td>3970.0</td>\n",
       "      <td>51.0</td>\n",
       "      <td>3</td>\n",
       "      <td>Hyse</td>\n",
       "      <td>9594.0</td>\n",
       "      <td>12.60</td>\n",
       "      <td>56.8</td>\n",
       "      <td>12</td>\n",
       "    </tr>\n",
       "    <tr>\n",
       "      <th>5</th>\n",
       "      <td>74.910</td>\n",
       "      <td>15.868</td>\n",
       "      <td>-403.0</td>\n",
       "      <td>267.0</td>\n",
       "      <td>74.901</td>\n",
       "      <td>16.248</td>\n",
       "      <td>-277.0</td>\n",
       "      <td>11096.0</td>\n",
       "      <td>51.0</td>\n",
       "      <td>3</td>\n",
       "      <td>Hyse</td>\n",
       "      <td>9118.0</td>\n",
       "      <td>12.60</td>\n",
       "      <td>56.8</td>\n",
       "      <td>12</td>\n",
       "    </tr>\n",
       "    <tr>\n",
       "      <th>11</th>\n",
       "      <td>74.883</td>\n",
       "      <td>16.056</td>\n",
       "      <td>-346.0</td>\n",
       "      <td>315.0</td>\n",
       "      <td>74.924</td>\n",
       "      <td>15.742</td>\n",
       "      <td>-496.0</td>\n",
       "      <td>10215.0</td>\n",
       "      <td>51.0</td>\n",
       "      <td>3</td>\n",
       "      <td>Hyse</td>\n",
       "      <td>12432.0</td>\n",
       "      <td>12.60</td>\n",
       "      <td>56.8</td>\n",
       "      <td>12</td>\n",
       "    </tr>\n",
       "    <tr>\n",
       "      <th>17</th>\n",
       "      <td>74.931</td>\n",
       "      <td>15.785</td>\n",
       "      <td>-443.0</td>\n",
       "      <td>243.0</td>\n",
       "      <td>74.926</td>\n",
       "      <td>15.894</td>\n",
       "      <td>-358.0</td>\n",
       "      <td>3214.0</td>\n",
       "      <td>51.0</td>\n",
       "      <td>0</td>\n",
       "      <td>Torsk</td>\n",
       "      <td>7022.0</td>\n",
       "      <td>12.60</td>\n",
       "      <td>56.8</td>\n",
       "      <td>12</td>\n",
       "    </tr>\n",
       "    <tr>\n",
       "      <th>19</th>\n",
       "      <td>67.828</td>\n",
       "      <td>12.972</td>\n",
       "      <td>-71.0</td>\n",
       "      <td>63.0</td>\n",
       "      <td>67.827</td>\n",
       "      <td>12.942</td>\n",
       "      <td>-56.0</td>\n",
       "      <td>1269.0</td>\n",
       "      <td>61.0</td>\n",
       "      <td>3</td>\n",
       "      <td>Hyse</td>\n",
       "      <td>4.0</td>\n",
       "      <td>5.06</td>\n",
       "      <td>19.1</td>\n",
       "      <td>1</td>\n",
       "    </tr>\n",
       "  </tbody>\n",
       "</table>\n",
       "</div>"
      ],
      "text/plain": [
       "    Startposisjon bredde  Startposisjon lengde  Havdybde start  Varighet  \\\n",
       "1                 74.885                16.048          -335.0     295.0   \n",
       "5                 74.910                15.868          -403.0     267.0   \n",
       "11                74.883                16.056          -346.0     315.0   \n",
       "17                74.931                15.785          -443.0     243.0   \n",
       "19                67.828                12.972           -71.0      63.0   \n",
       "\n",
       "    Stopposisjon bredde  Stopposisjon lengde  Havdybde stopp  Trekkavstand  \\\n",
       "1                74.914               15.969          -334.0        3970.0   \n",
       "5                74.901               16.248          -277.0       11096.0   \n",
       "11               74.924               15.742          -496.0       10215.0   \n",
       "17               74.926               15.894          -358.0        3214.0   \n",
       "19               67.827               12.942           -56.0        1269.0   \n",
       "\n",
       "    Redskap FDIR (kode)  Hovedart FAO Art - FDIR  Rundvekt  Bredde  \\\n",
       "1                  51.0             3       Hyse    9594.0   12.60   \n",
       "5                  51.0             3       Hyse    9118.0   12.60   \n",
       "11                 51.0             3       Hyse   12432.0   12.60   \n",
       "17                 51.0             0      Torsk    7022.0   12.60   \n",
       "19                 61.0             3       Hyse       4.0    5.06   \n",
       "\n",
       "    Fartøylengde  Month  \n",
       "1           56.8     12  \n",
       "5           56.8     12  \n",
       "11          56.8     12  \n",
       "17          56.8     12  \n",
       "19          19.1      1  "
      ]
     },
     "execution_count": 16,
     "metadata": {},
     "output_type": "execute_result"
    }
   ],
   "source": [
    "import import_ipynb\n",
    "from preprocess import df\n",
    "df.head()"
   ]
  },
  {
   "cell_type": "code",
   "execution_count": 17,
   "metadata": {},
   "outputs": [],
   "source": [
    "#Importere og bruke tensorflow og keras for dyp læring\n",
    "import tensorflow as tf \n",
    "from tensorflow import keras\n",
    "from sklearn.preprocessing import StandardScaler"
   ]
  },
  {
   "cell_type": "code",
   "execution_count": 18,
   "metadata": {},
   "outputs": [],
   "source": [
    "features = ['Startposisjon bredde', 'Startposisjon lengde', 'Havdybde start', 'Varighet',\n",
    "    'Stopposisjon bredde', 'Stopposisjon lengde', 'Havdybde stopp', 'Trekkavstand', \n",
    "    'Redskap FDIR (kode)', 'Rundvekt', 'Month']\n",
    "X = df[features]\n",
    "y = df['Hovedart FAO']\n",
    "\n",
    "scaler = StandardScaler()\n",
    "X = scaler.fit_transform(X)\n",
    "\n",
    "# Split the data into training and testing sets\n",
    "from sklearn.model_selection import train_test_split\n",
    "X_train, X_test, y_train, y_test = train_test_split(X, y, test_size=0.2, random_state=16)\n",
    "from tensorflow.keras.utils import to_categorical\n",
    "labels_one_hot = to_categorical(y_train)\n",
    "labels_one_hot_test = to_categorical(y_test)\n"
   ]
  },
  {
   "cell_type": "code",
   "execution_count": 19,
   "metadata": {},
   "outputs": [],
   "source": [
    "#Build the Model\n",
    "model = tf.keras.models.Sequential([\n",
    "    keras.layers.Dense(500, activation='relu', input_shape=[len(features)]),\n",
    "    keras.layers.Dropout(0.2),  # Dropout layer to prevent overfitting\n",
    "    keras.layers.Dense(300, activation='relu'),\n",
    "    keras.layers.Dropout(0.2),  # Another dropout layer\n",
    "    keras.layers.Dense(150, activation='relu'),\n",
    "    keras.layers.Dropout(0.2),  # Another dropout layer\n",
    "    keras.layers.Dense(5, activation='softmax')  # Change to 'softmax' for multi-class problems\n",
    "])"
   ]
  },
  {
   "cell_type": "code",
   "execution_count": 20,
   "metadata": {},
   "outputs": [],
   "source": [
    "import visualkeras\n",
    "visualkeras.layered_view(model, to_file='model_visualization.png').show()  # saves the visualization as a PNG file and shows it"
   ]
  },
  {
   "cell_type": "code",
   "execution_count": 21,
   "metadata": {},
   "outputs": [],
   "source": [
    "#Compile the Model\n",
    "model.compile(optimizer='adam',\n",
    "              loss='categorical_crossentropy',\n",
    "              metrics=['accuracy'])"
   ]
  },
  {
   "cell_type": "code",
   "execution_count": 22,
   "metadata": {},
   "outputs": [
    {
     "name": "stdout",
     "output_type": "stream",
     "text": [
      "Epoch 1/10\n",
      "1683/1683 [==============================] - 2s 1ms/step - loss: 0.5389 - accuracy: 0.7846 - val_loss: 0.4380 - val_accuracy: 0.8235\n",
      "Epoch 2/10\n",
      "1683/1683 [==============================] - 2s 1ms/step - loss: 0.4319 - accuracy: 0.8264 - val_loss: 0.3988 - val_accuracy: 0.8422\n",
      "Epoch 3/10\n",
      "1683/1683 [==============================] - 2s 1ms/step - loss: 0.3983 - accuracy: 0.8382 - val_loss: 0.3696 - val_accuracy: 0.8474\n",
      "Epoch 4/10\n",
      "1683/1683 [==============================] - 2s 1ms/step - loss: 0.3795 - accuracy: 0.8445 - val_loss: 0.3511 - val_accuracy: 0.8536\n",
      "Epoch 5/10\n",
      "1683/1683 [==============================] - 2s 1ms/step - loss: 0.3683 - accuracy: 0.8486 - val_loss: 0.3575 - val_accuracy: 0.8545\n",
      "Epoch 6/10\n",
      "1683/1683 [==============================] - 2s 1ms/step - loss: 0.3591 - accuracy: 0.8531 - val_loss: 0.3405 - val_accuracy: 0.8632\n",
      "Epoch 7/10\n",
      "1683/1683 [==============================] - 2s 1ms/step - loss: 0.3490 - accuracy: 0.8578 - val_loss: 0.3287 - val_accuracy: 0.8663\n",
      "Epoch 8/10\n",
      "1683/1683 [==============================] - 2s 1ms/step - loss: 0.3430 - accuracy: 0.8578 - val_loss: 0.3260 - val_accuracy: 0.8701\n",
      "Epoch 9/10\n",
      "1683/1683 [==============================] - 2s 1ms/step - loss: 0.3422 - accuracy: 0.8606 - val_loss: 0.3246 - val_accuracy: 0.8651\n",
      "Epoch 10/10\n",
      "1683/1683 [==============================] - 2s 1ms/step - loss: 0.3349 - accuracy: 0.8626 - val_loss: 0.3256 - val_accuracy: 0.8665\n"
     ]
    },
    {
     "data": {
      "text/plain": [
       "<keras.src.callbacks.History at 0x30f2f8650>"
      ]
     },
     "execution_count": 22,
     "metadata": {},
     "output_type": "execute_result"
    }
   ],
   "source": [
    "#Train og fit.\n",
    "model.fit(X_train, labels_one_hot, epochs=10, validation_data=(X_test, labels_one_hot_test))"
   ]
  },
  {
   "cell_type": "markdown",
   "metadata": {},
   "source": [
    "The output tells us how the model's loss and accuracy change over training epochs, as well as how well it performs on both the validation and test datasets. Overall, the decreasing loss and increasing accuracy suggest that the model is learning and improving its performance as it trains."
   ]
  },
  {
   "cell_type": "code",
   "execution_count": 23,
   "metadata": {},
   "outputs": [
    {
     "name": "stdout",
     "output_type": "stream",
     "text": [
      "421/421 - 0s - loss: 0.3256 - accuracy: 0.8665 - 168ms/epoch - 398us/step\n",
      "Test accuracy: 0.8665032386779785\n"
     ]
    }
   ],
   "source": [
    "test_loss, test_acc = model.evaluate(X_test, labels_one_hot_test, verbose=2)\n",
    "print('Test accuracy:', test_acc)"
   ]
  },
  {
   "cell_type": "code",
   "execution_count": null,
   "metadata": {},
   "outputs": [],
   "source": []
  }
 ],
 "metadata": {
  "kernelspec": {
   "display_name": "base",
   "language": "python",
   "name": "python3"
  },
  "language_info": {
   "codemirror_mode": {
    "name": "ipython",
    "version": 3
   },
   "file_extension": ".py",
   "mimetype": "text/x-python",
   "name": "python",
   "nbconvert_exporter": "python",
   "pygments_lexer": "ipython3",
   "version": "3.11.4"
  }
 },
 "nbformat": 4,
 "nbformat_minor": 2
}
