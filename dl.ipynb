{
 "cells": [
  {
   "cell_type": "code",
   "execution_count": 2,
   "metadata": {},
   "outputs": [
    {
     "data": {
      "text/html": [
       "<div>\n",
       "<style scoped>\n",
       "    .dataframe tbody tr th:only-of-type {\n",
       "        vertical-align: middle;\n",
       "    }\n",
       "\n",
       "    .dataframe tbody tr th {\n",
       "        vertical-align: top;\n",
       "    }\n",
       "\n",
       "    .dataframe thead th {\n",
       "        text-align: right;\n",
       "    }\n",
       "</style>\n",
       "<table border=\"1\" class=\"dataframe\">\n",
       "  <thead>\n",
       "    <tr style=\"text-align: right;\">\n",
       "      <th></th>\n",
       "      <th>Startdato</th>\n",
       "      <th>Startposisjon bredde</th>\n",
       "      <th>Startposisjon lengde</th>\n",
       "      <th>Havdybde start</th>\n",
       "      <th>Stoppdato</th>\n",
       "      <th>Varighet</th>\n",
       "      <th>Stopposisjon bredde</th>\n",
       "      <th>Stopposisjon lengde</th>\n",
       "      <th>Havdybde stopp</th>\n",
       "      <th>Trekkavstand</th>\n",
       "      <th>Redskap FDIR (kode)</th>\n",
       "      <th>Art - FDIR</th>\n",
       "      <th>Rundvekt</th>\n",
       "      <th>Bredde</th>\n",
       "      <th>Fartøylengde</th>\n",
       "    </tr>\n",
       "  </thead>\n",
       "  <tbody>\n",
       "    <tr>\n",
       "      <th>2</th>\n",
       "      <td>30.12.2017</td>\n",
       "      <td>74.885</td>\n",
       "      <td>16.048</td>\n",
       "      <td>-335.0</td>\n",
       "      <td>31.12.2017</td>\n",
       "      <td>295.0</td>\n",
       "      <td>74.914</td>\n",
       "      <td>15.969</td>\n",
       "      <td>-334.0</td>\n",
       "      <td>3970.0</td>\n",
       "      <td>51.0</td>\n",
       "      <td>0</td>\n",
       "      <td>8510.0</td>\n",
       "      <td>12.6</td>\n",
       "      <td>56.8</td>\n",
       "    </tr>\n",
       "    <tr>\n",
       "      <th>4</th>\n",
       "      <td>30.12.2017</td>\n",
       "      <td>74.885</td>\n",
       "      <td>16.048</td>\n",
       "      <td>-335.0</td>\n",
       "      <td>31.12.2017</td>\n",
       "      <td>295.0</td>\n",
       "      <td>74.914</td>\n",
       "      <td>15.969</td>\n",
       "      <td>-334.0</td>\n",
       "      <td>3970.0</td>\n",
       "      <td>51.0</td>\n",
       "      <td>1</td>\n",
       "      <td>134.0</td>\n",
       "      <td>12.6</td>\n",
       "      <td>56.8</td>\n",
       "    </tr>\n",
       "    <tr>\n",
       "      <th>6</th>\n",
       "      <td>31.12.2017</td>\n",
       "      <td>74.910</td>\n",
       "      <td>15.868</td>\n",
       "      <td>-403.0</td>\n",
       "      <td>31.12.2017</td>\n",
       "      <td>267.0</td>\n",
       "      <td>74.901</td>\n",
       "      <td>16.248</td>\n",
       "      <td>-277.0</td>\n",
       "      <td>11096.0</td>\n",
       "      <td>51.0</td>\n",
       "      <td>0</td>\n",
       "      <td>6651.0</td>\n",
       "      <td>12.6</td>\n",
       "      <td>56.8</td>\n",
       "    </tr>\n",
       "    <tr>\n",
       "      <th>9</th>\n",
       "      <td>31.12.2017</td>\n",
       "      <td>74.910</td>\n",
       "      <td>15.868</td>\n",
       "      <td>-403.0</td>\n",
       "      <td>31.12.2017</td>\n",
       "      <td>267.0</td>\n",
       "      <td>74.901</td>\n",
       "      <td>16.248</td>\n",
       "      <td>-277.0</td>\n",
       "      <td>11096.0</td>\n",
       "      <td>51.0</td>\n",
       "      <td>1</td>\n",
       "      <td>67.0</td>\n",
       "      <td>12.6</td>\n",
       "      <td>56.8</td>\n",
       "    </tr>\n",
       "    <tr>\n",
       "      <th>12</th>\n",
       "      <td>31.12.2017</td>\n",
       "      <td>74.883</td>\n",
       "      <td>16.056</td>\n",
       "      <td>-346.0</td>\n",
       "      <td>31.12.2017</td>\n",
       "      <td>315.0</td>\n",
       "      <td>74.924</td>\n",
       "      <td>15.742</td>\n",
       "      <td>-496.0</td>\n",
       "      <td>10215.0</td>\n",
       "      <td>51.0</td>\n",
       "      <td>0</td>\n",
       "      <td>5097.0</td>\n",
       "      <td>12.6</td>\n",
       "      <td>56.8</td>\n",
       "    </tr>\n",
       "  </tbody>\n",
       "</table>\n",
       "</div>"
      ],
      "text/plain": [
       "     Startdato  Startposisjon bredde  Startposisjon lengde  Havdybde start  \\\n",
       "2   30.12.2017                74.885                16.048          -335.0   \n",
       "4   30.12.2017                74.885                16.048          -335.0   \n",
       "6   31.12.2017                74.910                15.868          -403.0   \n",
       "9   31.12.2017                74.910                15.868          -403.0   \n",
       "12  31.12.2017                74.883                16.056          -346.0   \n",
       "\n",
       "     Stoppdato  Varighet  Stopposisjon bredde  Stopposisjon lengde  \\\n",
       "2   31.12.2017     295.0               74.914               15.969   \n",
       "4   31.12.2017     295.0               74.914               15.969   \n",
       "6   31.12.2017     267.0               74.901               16.248   \n",
       "9   31.12.2017     267.0               74.901               16.248   \n",
       "12  31.12.2017     315.0               74.924               15.742   \n",
       "\n",
       "    Havdybde stopp  Trekkavstand  Redskap FDIR (kode)  Art - FDIR  Rundvekt  \\\n",
       "2           -334.0        3970.0                 51.0           0    8510.0   \n",
       "4           -334.0        3970.0                 51.0           1     134.0   \n",
       "6           -277.0       11096.0                 51.0           0    6651.0   \n",
       "9           -277.0       11096.0                 51.0           1      67.0   \n",
       "12          -496.0       10215.0                 51.0           0    5097.0   \n",
       "\n",
       "    Bredde  Fartøylengde  \n",
       "2     12.6          56.8  \n",
       "4     12.6          56.8  \n",
       "6     12.6          56.8  \n",
       "9     12.6          56.8  \n",
       "12    12.6          56.8  "
      ]
     },
     "execution_count": 2,
     "metadata": {},
     "output_type": "execute_result"
    }
   ],
   "source": [
    "import import_ipynb\n",
    "from preprocess import df\n",
    "df.head()"
   ]
  },
  {
   "cell_type": "code",
   "execution_count": null,
   "metadata": {},
   "outputs": [],
   "source": [
    "#Importere og bruke tensorflow og keras for dyp læring\n",
    "import tensorflow as tf \n",
    "from tensorflow import keras\n",
    "from sklearn.preprocessing import StandardScaler"
   ]
  },
  {
   "cell_type": "code",
   "execution_count": null,
   "metadata": {},
   "outputs": [],
   "source": [
    "features = ['Startposisjon bredde', 'Startposisjon lengde', 'Havdybde start', 'Varighet',\n",
    "            'Stopposisjon bredde', 'Stopposisjon lengde', 'Havdybde stopp', 'Trekkavstand', 'Redskap FDIR (kode)', \n",
    "            'Rundvekt', 'Bredde', 'Fartøylengde']\n",
    "X = df[features]\n",
    "y = df['Art - FDIR']\n",
    "\n",
    "scaler = StandardScaler()\n",
    "X = scaler.fit_transform(X)\n",
    "\n",
    "# Split the data into training and testing sets\n",
    "from sklearn.model_selection import train_test_split\n",
    "X_train, X_test, y_train, y_test = train_test_split(X, y, test_size=0.2, random_state=16)\n"
   ]
  },
  {
   "cell_type": "code",
   "execution_count": null,
   "metadata": {},
   "outputs": [],
   "source": [
    "#Build the Model\n",
    "model = tf.keras.models.Sequential([\n",
    "    keras.layers.Dense(128, activation='relu', input_shape=[len(features)]),\n",
    "    keras.layers.Dropout(0.2),  # Dropout layer to prevent overfitting\n",
    "    keras.layers.Dense(64, activation='relu'),\n",
    "    keras.layers.Dropout(0.2),  # Another dropout layer\n",
    "    keras.layers.Dense(1, activation='sigmoid')  # Change to 'softmax' for multi-class problems\n",
    "])"
   ]
  },
  {
   "cell_type": "code",
   "execution_count": null,
   "metadata": {},
   "outputs": [],
   "source": [
    "#Compile the Model\n",
    "model.compile(optimizer='adam',\n",
    "              loss='binary_crossentropy',\n",
    "              metrics=['accuracy'])"
   ]
  },
  {
   "cell_type": "code",
   "execution_count": null,
   "metadata": {},
   "outputs": [
    {
     "name": "stdout",
     "output_type": "stream",
     "text": [
      "Epoch 1/10\n",
      "2479/2479 [==============================] - 7s 3ms/step - loss: 0.6833 - accuracy: 0.5706 - val_loss: 0.6829 - val_accuracy: 0.5716\n",
      "Epoch 2/10\n",
      "2479/2479 [==============================] - 6s 2ms/step - loss: 0.6834 - accuracy: 0.5705 - val_loss: 0.6830 - val_accuracy: 0.5716\n",
      "Epoch 3/10\n",
      "2479/2479 [==============================] - 6s 3ms/step - loss: 0.6833 - accuracy: 0.5705 - val_loss: 0.6829 - val_accuracy: 0.5716\n",
      "Epoch 4/10\n",
      "2479/2479 [==============================] - 6s 3ms/step - loss: 0.6833 - accuracy: 0.5705 - val_loss: 0.6829 - val_accuracy: 0.5716\n",
      "Epoch 5/10\n",
      "2479/2479 [==============================] - 6s 3ms/step - loss: 0.6833 - accuracy: 0.5705 - val_loss: 0.6829 - val_accuracy: 0.5716\n",
      "Epoch 6/10\n",
      "2479/2479 [==============================] - 6s 3ms/step - loss: 0.6833 - accuracy: 0.5705 - val_loss: 0.6829 - val_accuracy: 0.5716\n",
      "Epoch 7/10\n",
      "2479/2479 [==============================] - 7s 3ms/step - loss: 0.6833 - accuracy: 0.5705 - val_loss: 0.6829 - val_accuracy: 0.5716\n",
      "Epoch 8/10\n",
      "2479/2479 [==============================] - 7s 3ms/step - loss: 0.6833 - accuracy: 0.5705 - val_loss: 0.6830 - val_accuracy: 0.5716\n",
      "Epoch 9/10\n",
      "2479/2479 [==============================] - 6s 3ms/step - loss: 0.6833 - accuracy: 0.5705 - val_loss: 0.6829 - val_accuracy: 0.5716\n",
      "Epoch 10/10\n",
      "2479/2479 [==============================] - 6s 3ms/step - loss: 0.6832 - accuracy: 0.5705 - val_loss: 0.6829 - val_accuracy: 0.5716\n"
     ]
    },
    {
     "data": {
      "text/plain": [
       "<keras.src.callbacks.History at 0x1d2689e9290>"
      ]
     },
     "execution_count": 13,
     "metadata": {},
     "output_type": "execute_result"
    }
   ],
   "source": [
    "#Train og fit.\n",
    "model.fit(X_train, y_train, epochs=10, validation_data=(X_test, y_test))"
   ]
  },
  {
   "cell_type": "code",
   "execution_count": null,
   "metadata": {},
   "outputs": [
    {
     "name": "stdout",
     "output_type": "stream",
     "text": [
      "620/620 - 1s - loss: 0.6829 - accuracy: 0.5716 - 928ms/epoch - 1ms/step\n",
      "Test accuracy: 0.5715942978858948\n"
     ]
    }
   ],
   "source": [
    "test_loss, test_acc = model.evaluate(X_test, y_test, verbose=2)\n",
    "print('Test accuracy:', test_acc)"
   ]
  },
  {
   "cell_type": "code",
   "execution_count": null,
   "metadata": {},
   "outputs": [],
   "source": []
  }
 ],
 "metadata": {
  "kernelspec": {
   "display_name": "base",
   "language": "python",
   "name": "python3"
  },
  "language_info": {
   "codemirror_mode": {
    "name": "ipython",
    "version": 3
   },
   "file_extension": ".py",
   "mimetype": "text/x-python",
   "name": "python",
   "nbconvert_exporter": "python",
   "pygments_lexer": "ipython3",
   "version": "3.11.4"
  }
 },
 "nbformat": 4,
 "nbformat_minor": 2
}
