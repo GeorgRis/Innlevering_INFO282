{
 "cells": [
  {
   "cell_type": "code",
   "execution_count": 24,
   "metadata": {},
   "outputs": [],
   "source": [
    "#Hvilke kolonner er irrelevante?\n",
    "#\"Melding ID\", \"Meldingstidpunkt\", \"Meldingsdato\", \"Meldingsklokkeslett\" Det meste med når dette er lagt inn vil ikke ha noe å si.\n",
    "#\"Starttidpunkt\", \"Startklokkeslett\", \"Stopptidspunkt\", \"Stoppklokkeslett\" Vil erstattes med bare \"Varighet\", men kanskje har noe å si med åssen fisken oppfører seg natt/dag.\n",
    "#\"Hovedområde start\", \"Hovedområde stopp\", \"Hovedområde start (kode)\", \"Hovedområde stopp (kode)\" Bruker heller Lokasjon stopp og start ettersom alle de ser ut til å være tilknyttet."
   ]
  },
  {
   "cell_type": "code",
   "execution_count": null,
   "metadata": {},
   "outputs": [],
   "source": []
  }
 ],
 "metadata": {
  "kernelspec": {
   "display_name": "INFO282",
   "language": "python",
   "name": "python3"
  },
  "language_info": {
   "codemirror_mode": {
    "name": "ipython",
    "version": 3
   },
   "file_extension": ".py",
   "mimetype": "text/x-python",
   "name": "python",
   "nbconvert_exporter": "python",
   "pygments_lexer": "ipython3",
   "version": "3.11.7"
  }
 },
 "nbformat": 4,
 "nbformat_minor": 2
}
